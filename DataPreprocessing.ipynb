{
 "cells": [
  {
   "cell_type": "code",
   "execution_count": null,
   "metadata": {},
   "outputs": [],
   "source": [
    "from pathlib import Path\n",
    "from shutil import copyfile\n",
    "#\n",
    "import numpy as np\n",
    "from tqdm import tqdm"
   ]
  },
  {
   "cell_type": "code",
   "execution_count": null,
   "metadata": {},
   "outputs": [],
   "source": [
    "# raw input data = input from mark\n",
    "p_src = Path(\"./training_data/128_gray\")\n",
    "#\n",
    "p_jaggy = p_src / \"jaggy\"\n",
    "p_smooth = p_src / \"smooth\"\n",
    "#\n",
    "assert p_jaggy.exists()\n",
    "assert p_smooth.exists()"
   ]
  },
  {
   "cell_type": "code",
   "execution_count": null,
   "metadata": {},
   "outputs": [],
   "source": [
    "# destination for train test splits\n",
    "p_data = Path(\"./data\") / p_src.name\n",
    "#\n",
    "p_train = p_data / \"train\"\n",
    "p_valid = p_data / \"valid\"\n",
    "#\n",
    "p_data.mkdir(exist_ok=True)"
   ]
  },
  {
   "cell_type": "code",
   "execution_count": null,
   "metadata": {},
   "outputs": [],
   "source": [
    "train_ratio = 0.8\n",
    "#\n",
    "# find all images\n",
    "p_jaggy_imgs = list(p_jaggy.glob(\"*.png\"))\n",
    "p_smooth_imgs = list(p_smooth.glob(\"*.png\"))\n",
    "#\n",
    "n_samples = len(p_jaggy_imgs)\n",
    "assert n_samples == len(p_smooth_imgs)\n",
    "#\n",
    "n_train_samples = int(n_samples * train_ratio)\n",
    "n_valid_samples = n_samples - n_train_samples\n",
    "#\n",
    "print(\"Train samples: \", n_train_samples)\n",
    "print(\"Valid samples: \", n_valid_samples)"
   ]
  },
  {
   "cell_type": "code",
   "execution_count": null,
   "metadata": {},
   "outputs": [],
   "source": [
    "# randomly select train samples by indices\n",
    "idcs_train = np.random.choice(range(n_samples), size=n_train_samples, replace=False)\n",
    "idcs_valid = [idx for idx in range(n_samples) if idx not in set(idcs_train)]\n",
    "#\n",
    "assert len(set(idcs_train)) == n_train_samples\n",
    "assert len(idcs_valid) == n_valid_samples"
   ]
  },
  {
   "cell_type": "code",
   "execution_count": null,
   "metadata": {},
   "outputs": [],
   "source": [
    "def copy_imgs(p_jaggy_imgs, p_smooth_imgs, p_dest, indices):\n",
    "    p_inputs = p_dest / \"inputs\"\n",
    "    p_labels = p_dest / \"labels\"\n",
    "    #\n",
    "    p_inputs.mkdir(exist_ok=True, parents=True)\n",
    "    p_labels.mkdir(exist_ok=True, parents=True)\n",
    "    #\n",
    "    # copy imgs\n",
    "    for idx in tqdm(indices):\n",
    "        p_jaggy_img = p_jaggy_imgs[idx]\n",
    "        p_smooth_img = p_smooth_imgs[idx]\n",
    "        \n",
    "        copyfile(p_jaggy_img, p_labels / p_smooth_img.name)\n",
    "        copyfile(p_smooth_img, p_inputs / p_jaggy_img.name)"
   ]
  },
  {
   "cell_type": "code",
   "execution_count": null,
   "metadata": {},
   "outputs": [],
   "source": [
    "copy_imgs(p_jaggy_imgs, p_smooth_imgs, p_train, idcs_train)\n",
    "copy_imgs(p_jaggy_imgs, p_smooth_imgs, p_valid, idcs_valid)"
   ]
  }
 ],
 "metadata": {
  "kernelspec": {
   "display_name": "Python 3",
   "language": "python",
   "name": "python3"
  },
  "language_info": {
   "codemirror_mode": {
    "name": "ipython",
    "version": 3
   },
   "file_extension": ".py",
   "mimetype": "text/x-python",
   "name": "python",
   "nbconvert_exporter": "python",
   "pygments_lexer": "ipython3",
   "version": "3.6.12"
  },
  "latex_envs": {
   "LaTeX_envs_menu_present": true,
   "autoclose": false,
   "autocomplete": true,
   "bibliofile": "biblio.bib",
   "cite_by": "apalike",
   "current_citInitial": 1,
   "eqLabelWithNumbers": true,
   "eqNumInitial": 1,
   "hotkeys": {
    "equation": "Ctrl-E",
    "itemize": "Ctrl-I"
   },
   "labels_anchors": false,
   "latex_user_defs": false,
   "report_style_numbering": false,
   "user_envs_cfg": false
  }
 },
 "nbformat": 4,
 "nbformat_minor": 4
}
