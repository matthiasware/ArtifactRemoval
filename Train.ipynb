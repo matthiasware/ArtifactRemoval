{
 "cells": [
  {
   "cell_type": "code",
   "execution_count": null,
   "metadata": {},
   "outputs": [],
   "source": [
    "from pathlib import Path\n",
    "from shutil import copyfile\n",
    "#\n",
    "import torch\n",
    "import torchvision\n",
    "import torchvision.transforms as T\n",
    "import torch.nn as nn\n",
    "import torch.nn.functional as F\n",
    "from torchsummary import summary\n",
    "#\n",
    "from PIL import Image\n",
    "import matplotlib.pyplot as plt\n",
    "import numpy as np\n",
    "from tqdm import tqdm\n",
    "#\n",
    "from models import UNet"
   ]
  },
  {
   "cell_type": "markdown",
   "metadata": {},
   "source": [
    "## Configs"
   ]
  },
  {
   "cell_type": "code",
   "execution_count": null,
   "metadata": {},
   "outputs": [],
   "source": [
    "p_data = Path(\"./data/128_gray\")\n",
    "p_data.exists()\n",
    "#\n",
    "p_train = p_data / \"train\"\n",
    "p_valid = p_data / \"valid\"\n",
    "#\n",
    "device = torch.device('cuda' if torch.cuda.is_available() else 'cpu')\n",
    "#\n",
    "freq_print = 10\n",
    "freq_vis = 1000\n",
    "#\n",
    "n_epochs = 10\n",
    "img_size = 128\n",
    "lr = 0.01\n",
    "n_imgs_viz = 4"
   ]
  },
  {
   "cell_type": "markdown",
   "metadata": {},
   "source": [
    "## Utils"
   ]
  },
  {
   "cell_type": "code",
   "execution_count": null,
   "metadata": {},
   "outputs": [],
   "source": [
    "def show_imgs(X, Y, P, scale_factor=2):\n",
    "    n_cols = 3\n",
    "    n_rows = X.shape[0]\n",
    "    fig, axs = plt.subplots(n_rows, n_cols, figsize=(n_cols*2, n_rows*2))\n",
    "    for ax in axs.flatten():\n",
    "        ax.set_xticks([])\n",
    "        ax.set_yticks([])\n",
    "    for row_idx in range(n_rows):\n",
    "        axs[row_idx][0].imshow(np.array(T.ToPILImage()(X[row_idx])), cmap=\"gray\")\n",
    "        axs[row_idx][1].imshow(np.array(T.ToPILImage()(Y[row_idx])), cmap=\"gray\")\n",
    "        axs[row_idx][2].imshow(np.array(T.ToPILImage()(P[row_idx])), cmap=\"gray\")\n",
    "    plt.tight_layout()\n",
    "    plt.show()\n",
    "\n",
    "class DataSet:\n",
    "    def __init__(self, p_data, transform=None):\n",
    "        self.p_inputs = p_data / \"inputs\"\n",
    "        self.p_labels = p_data / \"labels\"\n",
    "        #\n",
    "        self.inputs = list(self.p_inputs.glob(\"*.png\"))\n",
    "        self.labels = list(self.p_labels.glob(\"*.png\"))\n",
    "        #\n",
    "        assert [i.name for i in self.inputs] == [l.name for l in self.labels]\n",
    "        #\n",
    "        self.transform = transform\n",
    "\n",
    "    def __len__(self):\n",
    "        return len(self.inputs)\n",
    "\n",
    "\n",
    "    def __getitem__(self, idx):\n",
    "        x = Image.open(self.inputs[idx])\n",
    "        y = Image.open(self.labels[idx])\n",
    "        \n",
    "        if self.transform is not None:\n",
    "            x = self.transform(x)\n",
    "            y = self.transform(y)\n",
    "        return x, y"
   ]
  },
  {
   "cell_type": "markdown",
   "metadata": {},
   "source": [
    "# Action starts here ..."
   ]
  },
  {
   "cell_type": "code",
   "execution_count": null,
   "metadata": {},
   "outputs": [],
   "source": [
    "# DATA\n",
    "transform = T.Compose([\n",
    "    T.ToTensor(),\n",
    "    #T.Normalize([0.5], [0.5]),\n",
    "])\n",
    "#\n",
    "ds_train = DataSet(p_train, transform=transform)\n",
    "ds_valid = DataSet(p_valid, transform=transform)\n",
    "#\n",
    "dl_train = torch.utils.data.DataLoader(ds_train, batch_size=16, shuffle=True, num_workers=8)\n",
    "dl_valid = torch.utils.data.DataLoader(ds_valid, batch_size=16, shuffle=True)"
   ]
  },
  {
   "cell_type": "code",
   "execution_count": null,
   "metadata": {},
   "outputs": [],
   "source": [
    "# MODEL\n",
    "model = UNet(n_class=1)\n",
    "model = model.to(device)\n",
    "summary(model, input_size=(1, img_size, img_size))"
   ]
  },
  {
   "cell_type": "code",
   "execution_count": null,
   "metadata": {},
   "outputs": [],
   "source": [
    "# Data for visualization of training progress\n",
    "X_vis, Y_vis = next(iter(dl_train))\n",
    "X_vis = X_vis[:n_imgs_viz] \n",
    "Y_vis = Y_vis[:n_imgs_viz]\n",
    "#\n",
    "P_vis = model(X_vis.to(device))\n",
    "#\n",
    "# SHOW\n",
    "show_imgs(X_vis, Y_vis, P_vis)"
   ]
  },
  {
   "cell_type": "code",
   "execution_count": null,
   "metadata": {},
   "outputs": [],
   "source": [
    "# TRAIN\n",
    "criterion = nn.MSELoss()\n",
    "optimizer = torch.optim.Adam(model.parameters(), lr=lr)\n",
    "#\n",
    "results = {'train_losses': [], 'test_losses':[]}\n",
    "step = 0\n",
    "for epoch in range(n_epochs):\n",
    "    for X, Y in dl_train:\n",
    "        shape = X.shape\n",
    "        X = X.to(device)\n",
    "        Y = Y.to(device)\n",
    "        #\n",
    "        pred = model(X)\n",
    "        #\n",
    "        loss = criterion(pred, Y)\n",
    "        results[\"train_losses\"].append(loss.item())\n",
    "        #\n",
    "        loss.backward() ; optimizer.step() ; optimizer.zero_grad()\n",
    "        step +=1\n",
    "        \n",
    "        if step % freq_print == 0 or step < 20:\n",
    "            print(\"Epoch[{}/{}] Step {}, Loss: {:.3f}\".format(epoch, n_epochs, step, loss.item()))\n",
    "        \n",
    "        if step % freq_vis == 0 or step < 20:\n",
    "            with torch.no_grad():\n",
    "                P_vis = model(X_vis.to(device))\n",
    "            show_imgs(X_vis, Y_vis, P_vis)"
   ]
  },
  {
   "cell_type": "code",
   "execution_count": null,
   "metadata": {},
   "outputs": [],
   "source": [
    "X, Y = next(iter(dl_valid))"
   ]
  },
  {
   "cell_type": "code",
   "execution_count": null,
   "metadata": {},
   "outputs": [],
   "source": [
    "with torch.no_grad():\n",
    "    P = model(X.to(device))"
   ]
  },
  {
   "cell_type": "code",
   "execution_count": null,
   "metadata": {},
   "outputs": [],
   "source": [
    "show_imgs(X, Y, P)"
   ]
  }
 ],
 "metadata": {
  "kernelspec": {
   "display_name": "Python 3",
   "language": "python",
   "name": "python3"
  },
  "language_info": {
   "codemirror_mode": {
    "name": "ipython",
    "version": 3
   },
   "file_extension": ".py",
   "mimetype": "text/x-python",
   "name": "python",
   "nbconvert_exporter": "python",
   "pygments_lexer": "ipython3",
   "version": "3.6.12"
  },
  "latex_envs": {
   "LaTeX_envs_menu_present": true,
   "autoclose": false,
   "autocomplete": true,
   "bibliofile": "biblio.bib",
   "cite_by": "apalike",
   "current_citInitial": 1,
   "eqLabelWithNumbers": true,
   "eqNumInitial": 1,
   "hotkeys": {
    "equation": "Ctrl-E",
    "itemize": "Ctrl-I"
   },
   "labels_anchors": false,
   "latex_user_defs": false,
   "report_style_numbering": false,
   "user_envs_cfg": false
  }
 },
 "nbformat": 4,
 "nbformat_minor": 4
}
